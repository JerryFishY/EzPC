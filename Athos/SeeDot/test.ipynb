{
 "cells": [
  {
   "cell_type": "code",
   "execution_count": null,
   "metadata": {},
   "outputs": [],
   "source": [
    "import Util\n",
    "import Compiler\n",
    "\n",
    "obj = Compiler(\n",
    "    self.args.version,\n",
    "    self.args.target,\n",
    "    self.args.sfType,\n",
    "    self.args.astFile,\n",
    "    self.args.printAST,\n",
    "    self.args.consSF,\n",
    "    self.args.bitlen,\n",
    "    self.args.outputFileName,\n",
    "    self.args.disableRMO,\n",
    "    self.args.disableLivenessOpti,\n",
    "    self.args.disableTruncOpti,\n",
    "    self.args.disableAllOpti,\n",
    "    self.args.debugVar,\n",
    ")"
   ]
  }
 ],
 "metadata": {
  "kernelspec": {
   "display_name": "Python 3",
   "language": "python",
   "name": "python3"
  },
  "language_info": {
   "codemirror_mode": {
    "name": "ipython",
    "version": 3
   },
   "file_extension": ".py",
   "mimetype": "text/x-python",
   "name": "python",
   "nbconvert_exporter": "python",
   "pygments_lexer": "ipython3",
   "version": "3.8.10"
  }
 },
 "nbformat": 4,
 "nbformat_minor": 4
}
