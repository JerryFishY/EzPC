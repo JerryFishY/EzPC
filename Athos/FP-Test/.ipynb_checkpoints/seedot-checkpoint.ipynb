{
 "cells": [
  {
   "cell_type": "code",
   "execution_count": 58,
   "id": "c0b29310",
   "metadata": {},
   "outputs": [],
   "source": [
    "import sys, os\n",
    "sys.path.append(os.path.join('..', 'SeeDot'))"
   ]
  },
  {
   "cell_type": "code",
   "execution_count": 62,
   "id": "aba88f69",
   "metadata": {},
   "outputs": [],
   "source": [
    "import AST.AST as AST\n",
    "from AST.MtdAST import MtdAST\n",
    "import pickle"
   ]
  },
  {
   "cell_type": "code",
   "execution_count": 63,
   "id": "54b3a7e3",
   "metadata": {},
   "outputs": [
    {
     "name": "stdout",
     "output_type": "stream",
     "text": [
      "{'TFOpName': 'Input', 'TFNodeName': 'a'}\n"
     ]
    }
   ],
   "source": [
    "with open(\"astOutput.pkl\", \"rb\") as ff:\n",
    "    ast = pickle.load(ff)\n",
    "    \n",
    "print(ast.metadata)\n",
    "ast.decl.dataType = 'bool'"
   ]
  },
  {
   "cell_type": "code",
   "execution_count": 64,
   "id": "7af0b141",
   "metadata": {},
   "outputs": [
    {
     "name": "stdout",
     "output_type": "stream",
     "text": [
      "<class 'AST.AST.ID'>\n",
      "Let.name.name = a\n",
      "\n",
      "<class 'AST.AST.Input'>\n",
      "Let.decl.shape = [4, 4, 4, 4]\n",
      "Let.decl.dataType = bool\n",
      "Let.decl.shape = [4, 4, 4, 4]\n",
      "\n",
      "<class 'AST.AST.Let'>\n",
      "Let.ast.expr = <AST.AST.Let object at 0x7f4e9ccd4940>\n"
     ]
    }
   ],
   "source": [
    "print(f\"{type(ast.name)}\")\n",
    "print(f\"Let.name.name = {ast.name.name}\")\n",
    "\n",
    "print(f\"\\n{type(ast.decl)}\")\n",
    "print(f\"Let.decl.shape = {ast.decl.shape}\")\n",
    "print(f\"Let.decl.dataType = {ast.decl.dataType}\")\n",
    "print(f\"Let.decl.shape = {ast.decl.shape}\")\n",
    "\n",
    "print(f\"\\n{type(ast.expr)}\")\n",
    "print(f\"Let.ast.expr = {ast.expr}\")"
   ]
  },
  {
   "cell_type": "code",
   "execution_count": 34,
   "id": "5b9ab8dd",
   "metadata": {},
   "outputs": [],
   "source": [
    "# let < CLIENT >  var =  input([4, 4, 4, 4] float32  <CLIENT>  ){ Input a } in\n",
    "# output(var)\n",
    "\n",
    "# | Let\n",
    "# | Input\n",
    "#     | Output\n",
    "#         | Id\n",
    "\n",
    "mtdAST = MtdAST()\n",
    "\n",
    "\n",
    "var = AST.ID(\"var\")\n",
    "out = AST.Output(var)\n",
    "# shape: list, dataType: str, isSecret=True, inputByParty=Party.SERVER\n",
    "inp = AST.Input([4, 4, 4, 4], 'float32', True, AST.Party.CLIENT)\n",
    "\n",
    "let = AST.Let(var, inp, out)\n",
    "mtdAST.visit(\n",
    "    let,\n",
    "    {AST.ASTNode.mtdKeyTFOpName: \"Input\", AST.ASTNode.mtdKeyTFNodeName: \"var\"},\n",
    ")"
   ]
  },
  {
   "cell_type": "code",
   "execution_count": 35,
   "id": "47f610d2",
   "metadata": {},
   "outputs": [
    {
     "name": "stdout",
     "output_type": "stream",
     "text": [
      "Dumped toy AST\n"
     ]
    }
   ],
   "source": [
    "with open(\"toy.pkl\", \"wb\") as f:\n",
    "    pickle.dump(let, f)\n",
    "    print(\"Dumped toy AST\")"
   ]
  },
  {
   "cell_type": "code",
   "execution_count": 65,
   "id": "9e8bf942",
   "metadata": {},
   "outputs": [
    {
     "name": "stdout",
     "output_type": "stream",
     "text": [
      "Dumped not so toy AST\n"
     ]
    }
   ],
   "source": [
    "with open(\"astOutput_bool.pkl\", \"wb\") as f:\n",
    "    pickle.dump(ast, f)\n",
    "    print(\"Dumped not so toy AST\")"
   ]
  }
 ],
 "metadata": {
  "kernelspec": {
   "display_name": "Python 3",
   "language": "python",
   "name": "python3"
  },
  "language_info": {
   "codemirror_mode": {
    "name": "ipython",
    "version": 3
   },
   "file_extension": ".py",
   "mimetype": "text/x-python",
   "name": "python",
   "nbconvert_exporter": "python",
   "pygments_lexer": "ipython3",
   "version": "3.9.6"
  }
 },
 "nbformat": 4,
 "nbformat_minor": 5
}
