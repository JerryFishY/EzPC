{
 "cells": [
  {
   "cell_type": "code",
   "execution_count": 2,
   "id": "55351116",
   "metadata": {},
   "outputs": [],
   "source": [
    "import torch"
   ]
  },
  {
   "cell_type": "code",
   "execution_count": 52,
   "id": "941c7950",
   "metadata": {},
   "outputs": [],
   "source": [
    "class linearRegression(torch.nn.Module):\n",
    "    \"\"\" Linear layer \"\"\"\n",
    "    \n",
    "    def __init__(self, inputSize, outputSize):\n",
    "        super(linearRegression, self).__init__()\n",
    "        self.linear = torch.nn.Linear(inputSize, outputSize)\n",
    "\n",
    "    def forward(self, x):\n",
    "        out = self.linear(x)\n",
    "        return out\n",
    "    \n",
    "class VanillaNet(torch.nn.Module) :\n",
    "    \"\"\" Vanilla 1-D Neural Network \"\"\"\n",
    "    \n",
    "    def __init__(self, hidden_neurons=5, hidden_layers=3, bias=True) :\n",
    "        super(VanillaNet, self).__init__()\n",
    "\n",
    "        self.hidden = torch.nn.ModuleList(\n",
    "            [torch.nn.Linear(10, hidden_neurons)] + \\\n",
    "            [torch.nn.Linear(hidden_neurons, hidden_neurons) for _ in range(hidden_layers-1)]\n",
    "        )\n",
    "        self.output_linear = torch.nn.Linear(hidden_neurons, 1, bias=bias)\n",
    "\n",
    "    def forward(self, x) :\n",
    "        for h in self.hidden : x = torch.relu(h(x))\n",
    "        return self.output_linear(x)\n",
    "    \n",
    "class ReluNet(torch.nn.Module) :\n",
    "    def __init__(self) :\n",
    "        super(ReluNet, self).__init__()\n",
    "        \n",
    "    def forward(self, x) :\n",
    "        return torch.relu(x)\n",
    "    \n",
    "class SigmoidNet(torch.nn.Module) :\n",
    "    def __init__(self) :\n",
    "        super(SigmoidNet, self).__init__()\n",
    "        \n",
    "    def forward(self, x) :\n",
    "        return torch.sigmoid(x)\n",
    "    \n",
    "class SoftmaxNet(torch.nn.Module) :\n",
    "    def __init__(self) :\n",
    "        super(SoftmaxNet, self).__init__()\n",
    "        \n",
    "    def forward(self, x) :\n",
    "        return torch.nn.functional.softmax(x, dim=None)"
   ]
  },
  {
   "cell_type": "code",
   "execution_count": 3,
   "id": "dd703bd7",
   "metadata": {},
   "outputs": [],
   "source": [
    "model = linearRegression(5, 1)\n",
    "model.eval()\n",
    "dummy_input = torch.randn(1, 5)\n",
    "input_names = [ \"actual_input\" ]\n",
    "output_names = [ \"output\" ]\n",
    "\n",
    "torch.onnx.export(model, \n",
    "                  dummy_input,\n",
    "                  \"linear.onnx\",\n",
    "                  verbose=False,\n",
    "                  input_names=input_names,\n",
    "                  output_names=output_names,\n",
    "                  export_params=True,\n",
    "                  )"
   ]
  },
  {
   "cell_type": "code",
   "execution_count": 14,
   "id": "c6bbde84",
   "metadata": {},
   "outputs": [],
   "source": [
    "model = VanillaNet()\n",
    "model.eval()\n",
    "dummy_input = torch.randn(1, 10)\n",
    "input_names = [ \"actual_input\" ]\n",
    "output_names = [ \"output\" ]\n",
    "\n",
    "torch.onnx.export(model, \n",
    "    dummy_input,\n",
    "    \"linear1.onnx\",\n",
    "    verbose=False,\n",
    "    input_names=input_names,\n",
    "    output_names=output_names,\n",
    "    export_params=True\n",
    ")"
   ]
  },
  {
   "cell_type": "code",
   "execution_count": 39,
   "id": "17eb7279",
   "metadata": {},
   "outputs": [],
   "source": [
    "model = ReluNet()\n",
    "model.eval()\n",
    "dummy_input = torch.randn(1, 1, 1, 10)\n",
    "input_names = [ \"actual_input\" ]\n",
    "output_names = [ \"output\" ]\n",
    "\n",
    "torch.onnx.export(\n",
    "    model,\n",
    "    dummy_input,\n",
    "    \"relu.onnx\",\n",
    "    verbose=False,\n",
    "    input_names=input_names,\n",
    "    output_names=output_names,\n",
    "    export_params=True\n",
    ")"
   ]
  },
  {
   "cell_type": "code",
   "execution_count": 53,
   "id": "6079070d",
   "metadata": {},
   "outputs": [],
   "source": [
    "model = SigmoidNet()\n",
    "model.eval()\n",
    "dummy_input = torch.randn(1, 1, 1, 10)\n",
    "input_names = [ \"actual_input\" ]\n",
    "output_names = [ \"output\" ]\n",
    "\n",
    "torch.onnx.export(\n",
    "    model,\n",
    "    dummy_input,\n",
    "    \"sigmoid.onnx\",\n",
    "    verbose=False,\n",
    "    input_names=input_names,\n",
    "    output_names=output_names,\n",
    "    export_params=True\n",
    ")"
   ]
  },
  {
   "cell_type": "code",
   "execution_count": 54,
   "id": "9e6b2618",
   "metadata": {},
   "outputs": [
    {
     "name": "stderr",
     "output_type": "stream",
     "text": [
      "<ipython-input-52-5edf288aacd2>:47: UserWarning: Implicit dimension choice for softmax has been deprecated. Change the call to include dim=X as an argument.\n",
      "  return torch.nn.functional.softmax(x, dim=None)\n"
     ]
    }
   ],
   "source": [
    "model = SoftmaxNet()\n",
    "model.eval()\n",
    "dummy_input = torch.randn(1, 1, 1, 10)\n",
    "input_names = [ \"actual_input\" ]\n",
    "output_names = [ \"output\" ]\n",
    "\n",
    "torch.onnx.export(\n",
    "    model,\n",
    "    dummy_input,\n",
    "    \"softmax.onnx\",\n",
    "    verbose=False,\n",
    "    input_names=input_names,\n",
    "    output_names=output_names,\n",
    "    export_params=True\n",
    ")"
   ]
  }
 ],
 "metadata": {
  "kernelspec": {
   "display_name": "Python 3",
   "language": "python",
   "name": "python3"
  },
  "language_info": {
   "codemirror_mode": {
    "name": "ipython",
    "version": 3
   },
   "file_extension": ".py",
   "mimetype": "text/x-python",
   "name": "python",
   "nbconvert_exporter": "python",
   "pygments_lexer": "ipython3",
   "version": "3.9.6"
  }
 },
 "nbformat": 4,
 "nbformat_minor": 5
}
