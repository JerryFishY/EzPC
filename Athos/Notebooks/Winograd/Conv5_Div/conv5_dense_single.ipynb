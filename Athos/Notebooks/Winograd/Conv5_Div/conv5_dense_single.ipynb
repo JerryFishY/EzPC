{
 "cells": [
  {
   "cell_type": "markdown",
   "metadata": {},
   "source": [
    "## Import"
   ]
  },
  {
   "cell_type": "code",
   "execution_count": 1,
   "metadata": {},
   "outputs": [],
   "source": [
    "import torch\n",
    "import torch.nn as nn\n",
    "import torch.nn.functional as F\n",
    "\n",
    "scale = 23"
   ]
  },
  {
   "cell_type": "markdown",
   "metadata": {},
   "source": [
    "## Define model"
   ]
  },
  {
   "cell_type": "code",
   "execution_count": 2,
   "metadata": {},
   "outputs": [],
   "source": [
    "class Net(nn.Module):\n",
    "\n",
    "    def __init__(self):\n",
    "        super(Net, self).__init__()\n",
    "        self.conv = nn.Conv2d(1, 1, 5, bias=False, padding=1)\n",
    "        \n",
    "    def forward(self, x):\n",
    "        return self.conv(x)"
   ]
  },
  {
   "cell_type": "markdown",
   "metadata": {},
   "source": [
    "## Create dummy input"
   ]
  },
  {
   "cell_type": "code",
   "execution_count": 3,
   "metadata": {},
   "outputs": [],
   "source": [
    "torch.manual_seed(0)\n",
    "\n",
    "model = Net()\n",
    "model.eval()\n",
    "dummy_input = torch.randn(1, 1, 12, 12)"
   ]
  },
  {
   "cell_type": "markdown",
   "metadata": {},
   "source": [
    "## Export"
   ]
  },
  {
   "cell_type": "code",
   "execution_count": 4,
   "metadata": {},
   "outputs": [],
   "source": [
    "torch.onnx.export(\n",
    "    model,\n",
    "    dummy_input,\n",
    "    \"conv5_dense_single.onnx\",\n",
    "    verbose=False,\n",
    "    input_names=['input_names'],\n",
    "    output_names=['output_names'],\n",
    "    export_params=True\n",
    ")"
   ]
  },
  {
   "cell_type": "markdown",
   "metadata": {},
   "source": [
    "## Generate input"
   ]
  },
  {
   "cell_type": "code",
   "execution_count": 5,
   "metadata": {},
   "outputs": [],
   "source": [
    "with open(\"Inputs/conv5_dense_single_input.inp\", 'w') as f :\n",
    "    for p in dummy_input.flatten() :\n",
    "        fixed = int(p*(2**scale))\n",
    "        # print(fixed)\n",
    "        f.write(f\"{fixed}\\n\")\n",
    "        \n",
    "    f.close()"
   ]
  },
  {
   "cell_type": "markdown",
   "metadata": {},
   "source": [
    "## Print Output"
   ]
  },
  {
   "cell_type": "code",
   "execution_count": 6,
   "metadata": {},
   "outputs": [
    {
     "name": "stdout",
     "output_type": "stream",
     "text": [
      "6705109\n",
      "6527023\n",
      "3300605\n",
      "1570013\n",
      "-4893642\n",
      "1188261\n",
      "775218\n",
      "-700129\n",
      "1409230\n",
      "-3165439\n",
      "7107787\n",
      "-397189\n",
      "5346935\n",
      "-2706264\n",
      "4282664\n",
      "-1862547\n",
      "-2938312\n",
      "-9103011\n",
      "-201777\n",
      "1843327\n",
      "3741222\n",
      "9328427\n",
      "-500229\n",
      "3282466\n",
      "-5051319\n",
      "8600200\n",
      "5058510\n",
      "2705756\n",
      "-3205955\n",
      "2071379\n",
      "-1323413\n",
      "-1978330\n",
      "4104809\n",
      "202897\n",
      "-908563\n",
      "-4527114\n",
      "7318695\n",
      "7330929\n",
      "5344637\n",
      "781607\n",
      "-2479051\n",
      "7281184\n",
      "-1865993\n",
      "-3985018\n",
      "-5323536\n",
      "-1898729\n",
      "-5605528\n",
      "-3211596\n",
      "-5564427\n",
      "-476246\n",
      "-4983937\n",
      "-1755153\n",
      "2613875\n",
      "1648754\n",
      "189178\n",
      "-2508039\n",
      "4751292\n",
      "1832855\n",
      "3007640\n",
      "-584170\n",
      "5019358\n",
      "2840003\n",
      "1892394\n",
      "230608\n",
      "-4762599\n",
      "-1412056\n",
      "-7212738\n",
      "5613343\n",
      "6415063\n",
      "5578336\n",
      "-2012579\n",
      "1608901\n",
      "3107635\n",
      "5979553\n",
      "4843799\n",
      "-124012\n",
      "-6405772\n",
      "-2246762\n",
      "1736214\n",
      "2440773\n",
      "-1729153\n",
      "-3994518\n",
      "1213110\n",
      "2794816\n",
      "3501455\n",
      "3611035\n",
      "-3423899\n",
      "-3141049\n",
      "-2142407\n",
      "3179873\n",
      "961007\n",
      "-4470128\n",
      "-7236388\n",
      "-3099565\n",
      "-1577772\n",
      "-1033138\n",
      "699543\n",
      "-596894\n",
      "4676501\n",
      "4685608\n"
     ]
    }
   ],
   "source": [
    "for p in model(dummy_input).flatten() :\n",
    "    fixed = int(p*(2**scale))\n",
    "    print(fixed)"
   ]
  }
 ],
 "metadata": {
  "kernelspec": {
   "display_name": "Python 3",
   "language": "python",
   "name": "python3"
  },
  "language_info": {
   "codemirror_mode": {
    "name": "ipython",
    "version": 3
   },
   "file_extension": ".py",
   "mimetype": "text/x-python",
   "name": "python",
   "nbconvert_exporter": "python",
   "pygments_lexer": "ipython3",
   "version": "3.8.10"
  }
 },
 "nbformat": 4,
 "nbformat_minor": 4
}
