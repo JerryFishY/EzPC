{
 "cells": [
  {
   "cell_type": "markdown",
   "metadata": {},
   "source": [
    "## Import"
   ]
  },
  {
   "cell_type": "code",
   "execution_count": 1,
   "metadata": {},
   "outputs": [],
   "source": [
    "import torch\n",
    "import torch.nn as nn\n",
    "import torch.nn.functional as F\n",
    "\n",
    "scale = 23"
   ]
  },
  {
   "cell_type": "markdown",
   "metadata": {},
   "source": [
    "## Define model"
   ]
  },
  {
   "cell_type": "code",
   "execution_count": 2,
   "metadata": {},
   "outputs": [],
   "source": [
    "class Net(nn.Module):\n",
    "\n",
    "    def __init__(self):\n",
    "        super(Net, self).__init__()\n",
    "        self.conv = nn.Conv2d(1, 1, 3, bias=False, padding=1)\n",
    "        \n",
    "    def forward(self, x):\n",
    "        return self.conv(x)"
   ]
  },
  {
   "cell_type": "markdown",
   "metadata": {},
   "source": [
    "## Create dummy input"
   ]
  },
  {
   "cell_type": "code",
   "execution_count": 3,
   "metadata": {},
   "outputs": [],
   "source": [
    "torch.manual_seed(0)\n",
    "\n",
    "model = Net()\n",
    "model.eval()\n",
    "dummy_input = torch.randn(1, 1, 10, 10)"
   ]
  },
  {
   "cell_type": "markdown",
   "metadata": {},
   "source": [
    "## Export"
   ]
  },
  {
   "cell_type": "code",
   "execution_count": 8,
   "metadata": {},
   "outputs": [],
   "source": [
    "torch.onnx.export(\n",
    "    model,\n",
    "    dummy_input,\n",
    "    \"conv3_dense_single.onnx\",\n",
    "    verbose=False,\n",
    "    input_names=['input_names'],\n",
    "    output_names=['output_names'],\n",
    "    export_params=True\n",
    ")"
   ]
  },
  {
   "cell_type": "markdown",
   "metadata": {},
   "source": [
    "## Generate input"
   ]
  },
  {
   "cell_type": "code",
   "execution_count": null,
   "metadata": {},
   "outputs": [],
   "source": [
    "with open(\"Inputs/conv3_dense_single_input.inp\", 'w') as f :\n",
    "    for p in dummy_input.flatten() :\n",
    "        fixed = int(p*(2**scale))\n",
    "        # print(fixed)\n",
    "        f.write(f\"{fixed}\\n\")\n",
    "        \n",
    "    f.close()"
   ]
  },
  {
   "cell_type": "markdown",
   "metadata": {},
   "source": [
    "## Print Output"
   ]
  },
  {
   "cell_type": "code",
   "execution_count": 5,
   "metadata": {},
   "outputs": [
    {
     "name": "stdout",
     "output_type": "stream",
     "text": [
      "2146653\n",
      "-1988531\n",
      "-1656599\n",
      "2252802\n",
      "-3000768\n",
      "2026670\n",
      "-1309289\n",
      "1841519\n",
      "5289834\n",
      "2276916\n",
      "285214\n",
      "-1208023\n",
      "907190\n",
      "-3550681\n",
      "5101801\n",
      "2237688\n",
      "3965774\n",
      "1488293\n",
      "-7670344\n",
      "-1362390\n",
      "-4224871\n",
      "-1242272\n",
      "-3440913\n",
      "5797087\n",
      "-1028457\n",
      "-3435244\n",
      "-9023098\n",
      "2467265\n",
      "-273252\n",
      "480016\n",
      "4544591\n",
      "1678477\n",
      "2864306\n",
      "-3771085\n",
      "-4539905\n",
      "-1910100\n",
      "4390818\n",
      "1656718\n",
      "-2489987\n",
      "-2779684\n",
      "-5608304\n",
      "3684690\n",
      "2939437\n",
      "1785986\n",
      "-208243\n",
      "3633085\n",
      "-1626242\n",
      "-3113347\n",
      "2513985\n",
      "-2765124\n",
      "3392241\n",
      "537592\n",
      "2024879\n",
      "-8436180\n",
      "6637582\n",
      "-1244163\n",
      "9998780\n",
      "-2902158\n",
      "-163143\n",
      "-625188\n",
      "-1823722\n",
      "-1746186\n",
      "-3717447\n",
      "-830171\n",
      "3119100\n",
      "-7323771\n",
      "-6167497\n",
      "-1683912\n",
      "5981830\n",
      "-985394\n",
      "-2769205\n",
      "-149417\n",
      "5868781\n",
      "642194\n",
      "-855661\n",
      "-3318418\n",
      "5122745\n",
      "-1388898\n",
      "-5456203\n",
      "-2707159\n",
      "1224728\n",
      "3931139\n",
      "795653\n",
      "-6809206\n",
      "-3882858\n",
      "-261718\n",
      "186451\n",
      "4955063\n",
      "3498869\n",
      "5004129\n",
      "-2732963\n",
      "-248946\n",
      "-5959971\n",
      "5756202\n",
      "1341264\n",
      "4734675\n",
      "1773194\n",
      "3885999\n",
      "-6908498\n",
      "636537\n"
     ]
    }
   ],
   "source": [
    "for p in model(dummy_input).flatten() :\n",
    "    fixed = int(p*(2**scale))\n",
    "    print(fixed)"
   ]
  },
  {
   "cell_type": "code",
   "execution_count": null,
   "metadata": {},
   "outputs": [],
   "source": []
  }
 ],
 "metadata": {
  "kernelspec": {
   "display_name": "Python 3",
   "language": "python",
   "name": "python3"
  },
  "language_info": {
   "codemirror_mode": {
    "name": "ipython",
    "version": 3
   },
   "file_extension": ".py",
   "mimetype": "text/x-python",
   "name": "python",
   "nbconvert_exporter": "python",
   "pygments_lexer": "ipython3",
   "version": "3.8.10"
  }
 },
 "nbformat": 4,
 "nbformat_minor": 4
}
