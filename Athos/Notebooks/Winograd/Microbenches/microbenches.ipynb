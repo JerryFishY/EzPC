{
 "cells": [
  {
   "cell_type": "markdown",
   "metadata": {},
   "source": [
    "## Import"
   ]
  },
  {
   "cell_type": "code",
   "execution_count": 7,
   "metadata": {},
   "outputs": [],
   "source": [
    "import torch\n",
    "import torch.nn as nn\n",
    "import torch.nn.functional as F\n",
    "\n",
    "scale = 23"
   ]
  },
  {
   "cell_type": "markdown",
   "metadata": {},
   "source": [
    "## Define Network Classes"
   ]
  },
  {
   "cell_type": "markdown",
   "metadata": {},
   "source": [
    "### 3x3 Filter Dense"
   ]
  },
  {
   "cell_type": "code",
   "execution_count": 16,
   "metadata": {},
   "outputs": [],
   "source": [
    "class Conv3_dense_bench1(nn.Module):\n",
    "    def __init__(self):\n",
    "        super(Conv3_dense_bench1, self).__init__()\n",
    "        self.conv = nn.Conv2d(1, 1, 3)\n",
    "        \n",
    "    def forward(self, x):\n",
    "        return self.conv(x)\n",
    "    \n",
    "class Conv3_dense_bench2(nn.Module):\n",
    "    def __init__(self):\n",
    "        super(Conv3_dense_bench2, self).__init__()\n",
    "        self.conv = nn.Conv2d(3, 3, 3)\n",
    "        \n",
    "    def forward(self, x):\n",
    "        return self.conv(x)\n",
    "    \n",
    "class Conv3_dense_bench3(nn.Module):\n",
    "    def __init__(self):\n",
    "        super(Conv3_dense_bench3, self).__init__()\n",
    "        self.conv = nn.Conv2d(16, 32, 3)\n",
    "        \n",
    "    def forward(self, x):\n",
    "        return self.conv(x)\n",
    "    \n",
    "class Conv3_dense_bench4(nn.Module):\n",
    "    def __init__(self):\n",
    "        super(Conv3_dense_bench4, self).__init__()\n",
    "        self.conv = nn.Conv2d(64, 64, 3)\n",
    "        \n",
    "    def forward(self, x):\n",
    "        return self.conv(x)"
   ]
  },
  {
   "cell_type": "markdown",
   "metadata": {},
   "source": [
    "### 5x5 Filter Dense"
   ]
  },
  {
   "cell_type": "code",
   "execution_count": 17,
   "metadata": {},
   "outputs": [],
   "source": [
    "class Conv5_dense_bench1(nn.Module):\n",
    "    def __init__(self):\n",
    "        super(Conv5_dense_bench1, self).__init__()\n",
    "        self.conv = nn.Conv2d(1, 1, 5)\n",
    "        \n",
    "    def forward(self, x):\n",
    "        return self.conv(x)\n",
    "    \n",
    "class Conv5_dense_bench2(nn.Module):\n",
    "    def __init__(self):\n",
    "        super(Conv5_dense_bench2, self).__init__()\n",
    "        self.conv = nn.Conv2d(3, 3, 5)\n",
    "        \n",
    "    def forward(self, x):\n",
    "        return self.conv(x)\n",
    "    \n",
    "class Conv5_dense_bench3(nn.Module):\n",
    "    def __init__(self):\n",
    "        super(Conv5_dense_bench3, self).__init__()\n",
    "        self.conv = nn.Conv2d(16, 32, 5)\n",
    "        \n",
    "    def forward(self, x):\n",
    "        return self.conv(x)\n",
    "    \n",
    "class Conv5_dense_bench4(nn.Module):\n",
    "    def __init__(self):\n",
    "        super(Conv5_dense_bench4, self).__init__()\n",
    "        self.conv = nn.Conv2d(64, 64, 5)\n",
    "        \n",
    "    def forward(self, x):\n",
    "        return self.conv(x)"
   ]
  },
  {
   "cell_type": "markdown",
   "metadata": {},
   "source": [
    "### 3x3 Filter Group"
   ]
  },
  {
   "cell_type": "code",
   "execution_count": 18,
   "metadata": {},
   "outputs": [],
   "source": [
    "class Conv3_group_bench1(nn.Module):\n",
    "    def __init__(self):\n",
    "        super(Conv3_group_bench1, self).__init__()\n",
    "        self.conv = nn.Conv2d(3, 3, 3, groups=3)\n",
    "        \n",
    "    def forward(self, x):\n",
    "        return self.conv(x)\n",
    "    \n",
    "class Conv3_group_bench2(nn.Module):\n",
    "    def __init__(self):\n",
    "        super(Conv3_group_bench2, self).__init__()\n",
    "        self.conv = nn.Conv2d(16, 16, 3, groups=16)\n",
    "        \n",
    "    def forward(self, x):\n",
    "        return self.conv(x)\n",
    "    \n",
    "class Conv3_group_bench3(nn.Module):\n",
    "    def __init__(self):\n",
    "        super(Conv3_group_bench3, self).__init__()\n",
    "        self.conv = nn.Conv2d(32, 32, 3, groups=32)\n",
    "        \n",
    "    def forward(self, x):\n",
    "        return self.conv(x)\n",
    "    \n",
    "class Conv3_group_bench4(nn.Module):\n",
    "    def __init__(self):\n",
    "        super(Conv3_group_bench4, self).__init__()\n",
    "        self.conv = nn.Conv2d(64, 64, 3, groups=64)\n",
    "        \n",
    "    def forward(self, x):\n",
    "        return self.conv(x)"
   ]
  },
  {
   "cell_type": "markdown",
   "metadata": {},
   "source": [
    "### 5x5 Filter Group"
   ]
  },
  {
   "cell_type": "code",
   "execution_count": 19,
   "metadata": {},
   "outputs": [],
   "source": [
    "class Conv5_group_bench1(nn.Module):\n",
    "    def __init__(self):\n",
    "        super(Conv5_group_bench1, self).__init__()\n",
    "        self.conv = nn.Conv2d(3, 3, 5, groups=3)\n",
    "        \n",
    "    def forward(self, x):\n",
    "        return self.conv(x)\n",
    "    \n",
    "class Conv5_group_bench2(nn.Module):\n",
    "    def __init__(self):\n",
    "        super(Conv5_group_bench2, self).__init__()\n",
    "        self.conv = nn.Conv2d(16, 16, 5, groups=16)\n",
    "        \n",
    "    def forward(self, x):\n",
    "        return self.conv(x)\n",
    "    \n",
    "class Conv5_group_bench3(nn.Module):\n",
    "    def __init__(self):\n",
    "        super(Conv5_group_bench3, self).__init__()\n",
    "        self.conv = nn.Conv2d(32, 32, 5, groups=32)\n",
    "        \n",
    "    def forward(self, x):\n",
    "        return self.conv(x)\n",
    "    \n",
    "class Conv5_group_bench4(nn.Module):\n",
    "    def __init__(self):\n",
    "        super(Conv5_group_bench4, self).__init__()\n",
    "        self.conv = nn.Conv2d(64, 64, 5, groups=64)\n",
    "        \n",
    "    def forward(self, x):\n",
    "        return self.conv(x)"
   ]
  },
  {
   "cell_type": "markdown",
   "metadata": {},
   "source": [
    "## Dump ONNX files"
   ]
  },
  {
   "cell_type": "code",
   "execution_count": 22,
   "metadata": {},
   "outputs": [
    {
     "name": "stdout",
     "output_type": "stream",
     "text": [
      "conv3_dense_bench1\n",
      "conv3_dense_bench2\n",
      "conv3_dense_bench3\n",
      "conv3_dense_bench4\n",
      "conv5_dense_bench1\n",
      "conv5_dense_bench2\n",
      "conv5_dense_bench3\n",
      "conv5_dense_bench4\n",
      "conv3_group_bench1\n",
      "conv3_group_bench2\n",
      "conv3_group_bench3\n",
      "conv3_group_bench4\n",
      "conv5_group_bench1\n",
      "conv5_group_bench2\n",
      "conv5_group_bench3\n",
      "conv5_group_bench4\n"
     ]
    }
   ],
   "source": [
    "Nets = {\n",
    "    \"conv3_dense_bench1\" : Conv3_dense_bench1,\n",
    "    \"conv3_dense_bench2\" : Conv3_dense_bench2,\n",
    "    \"conv3_dense_bench3\" : Conv3_dense_bench3,\n",
    "    \"conv3_dense_bench4\" : Conv3_dense_bench4,\n",
    "    \n",
    "    \"conv5_dense_bench1\" : Conv5_dense_bench1,\n",
    "    \"conv5_dense_bench2\" : Conv5_dense_bench2,\n",
    "    \"conv5_dense_bench3\" : Conv5_dense_bench3,\n",
    "    \"conv5_dense_bench4\" : Conv5_dense_bench4,\n",
    "    \n",
    "    \"conv3_group_bench1\" : Conv3_group_bench1,\n",
    "    \"conv3_group_bench2\" : Conv3_group_bench2,\n",
    "    \"conv3_group_bench3\" : Conv3_group_bench3,\n",
    "    \"conv3_group_bench4\" : Conv3_group_bench4,\n",
    "    \n",
    "    \"conv5_group_bench1\" : Conv5_group_bench1,\n",
    "    \"conv5_group_bench2\" : Conv5_group_bench2,\n",
    "    \"conv5_group_bench3\" : Conv5_group_bench3,\n",
    "    \"conv5_group_bench4\" : Conv5_group_bench4,\n",
    "}\n",
    "\n",
    "shapes = {\n",
    "    \"conv3_dense_bench1\" : (1, 1, 6, 6),\n",
    "    \"conv3_dense_bench2\" : (1, 3, 46, 46),\n",
    "    \"conv3_dense_bench3\" : (1, 16, 128, 128),\n",
    "    \"conv3_dense_bench4\" : (1, 64, 256, 256),\n",
    "    \n",
    "    \"conv5_dense_bench1\" : (1, 1, 8, 8),\n",
    "    \"conv5_dense_bench2\" : (1, 3, 46, 46),\n",
    "    \"conv5_dense_bench3\" : (1, 16, 128, 128),\n",
    "    \"conv5_dense_bench4\" : (1, 64, 256, 256),\n",
    "    \n",
    "    \"conv3_group_bench1\" : (1, 3, 6, 6),\n",
    "    \"conv3_group_bench2\" : (1, 16, 46, 46),\n",
    "    \"conv3_group_bench3\" : (1, 32, 128, 128),\n",
    "    \"conv3_group_bench4\" : (1, 64, 256, 256),\n",
    "    \n",
    "    \"conv5_group_bench1\" : (1, 3, 8, 8),\n",
    "    \"conv5_group_bench2\" : (1, 16, 46, 46),\n",
    "    \"conv5_group_bench3\" : (1, 32, 128, 128),\n",
    "    \"conv5_group_bench4\" : (1, 64, 256, 256),\n",
    "}\n",
    "\n",
    "for bench_str, shape in shapes.items() :\n",
    "    torch.manual_seed(0)\n",
    "    \n",
    "    print(bench_str)\n",
    "    \n",
    "    model = Nets[bench_str]()\n",
    "    model.eval()\n",
    "    \n",
    "    dummy_input = torch.randn(*shape)\n",
    "    torch.onnx.export(\n",
    "        model,\n",
    "        dummy_input,\n",
    "        f\"{bench_str}.onnx\",\n",
    "        verbose=False,\n",
    "        input_names=['input_names'],\n",
    "        output_names=['output_names'],\n",
    "        export_params=True\n",
    "    )"
   ]
  },
  {
   "cell_type": "code",
   "execution_count": null,
   "metadata": {},
   "outputs": [],
   "source": []
  }
 ],
 "metadata": {
  "kernelspec": {
   "display_name": "Python 3",
   "language": "python",
   "name": "python3"
  },
  "language_info": {
   "codemirror_mode": {
    "name": "ipython",
    "version": 3
   },
   "file_extension": ".py",
   "mimetype": "text/x-python",
   "name": "python",
   "nbconvert_exporter": "python",
   "pygments_lexer": "ipython3",
   "version": "3.8.10"
  }
 },
 "nbformat": 4,
 "nbformat_minor": 5
}
