{
 "cells": [
  {
   "cell_type": "markdown",
   "metadata": {},
   "source": [
    "## Import"
   ]
  },
  {
   "cell_type": "code",
   "execution_count": 2,
   "metadata": {},
   "outputs": [],
   "source": [
    "import torch\n",
    "import torch.nn as nn\n",
    "import torch.nn.functional as F\n",
    "\n",
    "scale = 23"
   ]
  },
  {
   "cell_type": "markdown",
   "metadata": {},
   "source": [
    "## Define Network Classes"
   ]
  },
  {
   "cell_type": "markdown",
   "metadata": {},
   "source": [
    "### 3x3 Filter Dense"
   ]
  },
  {
   "cell_type": "code",
   "execution_count": 33,
   "metadata": {},
   "outputs": [],
   "source": [
    "class Conv3_dense_bench1(nn.Module):\n",
    "    def __init__(self):\n",
    "        super(Net, self).__init__()\n",
    "        self.conv = nn.Conv2d(33, 64, 3, bias=False)\n",
    "        \n",
    "    def forward(self, x):\n",
    "        return self.conv(x)\n",
    "    \n",
    "class Conv3_dense_bench2(nn.Module):\n",
    "    def __init__(self):\n",
    "        super(Net, self).__init__()\n",
    "        self.conv = nn.Conv2d(33, 64, 3, bias=False)\n",
    "        \n",
    "    def forward(self, x):\n",
    "        return self.conv(x)\n",
    "    \n",
    "class Conv3_dense_bench3(nn.Module):\n",
    "    def __init__(self):\n",
    "        super(Net, self).__init__()\n",
    "        self.conv = nn.Conv2d(33, 64, 3, bias=False)\n",
    "        \n",
    "    def forward(self, x):\n",
    "        return self.conv(x)\n",
    "    \n",
    "class Conv3_dense_bench4(nn.Module):\n",
    "    def __init__(self):\n",
    "        super(Net, self).__init__()\n",
    "        self.conv = nn.Conv2d(33, 64, 3, bias=False)\n",
    "        \n",
    "    def forward(self, x):\n",
    "        return self.conv(x)"
   ]
  },
  {
   "cell_type": "markdown",
   "metadata": {},
   "source": [
    "## Dump ONNX files"
   ]
  },
  {
   "cell_type": "code",
   "execution_count": 34,
   "metadata": {},
   "outputs": [],
   "source": [
    "shapes = {\n",
    "    \"conv3_dense_bench1\" : (1, 1, 6, 6),\n",
    "    \"conv3_dense_bench2\" : (1, 3, 46, 46),\n",
    "    \"conv3_dense_bench3\" : (1, 16, 128, 128),\n",
    "    \"conv3_dense_bench4\" : (1, 64, 256, 256),\n",
    "    \n",
    "    \"conv5_dense_bench1\" : (1, 1, 8, 8),\n",
    "    \"conv5_dense_bench2\" : (1, 3, 46, 46),\n",
    "    \"conv5_dense_bench3\" : (1, 16, 128, 128),\n",
    "    \"conv5_dense_bench4\" : (1, 64, 256, 256),\n",
    "    \n",
    "    \"conv3_group_bench1\" : (1, 3, 6, 6),\n",
    "    \"conv3_group_bench2\" : (1, 3, 46, 46),\n",
    "    \"conv3_group_bench3\" : (1, 16, 128, 128),\n",
    "    \"conv3_group_bench4\" : (1, 64, 256, 256),\n",
    "    \n",
    "    \"conv5_group_bench1\" : (1, 3, 8, 8),\n",
    "    \"conv5_group_bench2\" : (1, 3, 46, 46),\n",
    "    \"conv5_group_bench3\" : (1, 16, 128, 128),\n",
    "    \"conv5_group_bench4\" : (1, 64, 256, 256),\n",
    "}\n",
    "\n",
    "for bench_str, shape in shapes.items() :\n",
    "    torch.manual_seed(0)\n",
    "    model = Net()\n",
    "    model.eval()\n",
    "    dummy_input = torch.randn(*shape)\n",
    "    \n",
    "    torch.onnx.export(\n",
    "        model,\n",
    "        dummy_input,\n",
    "        f\"{bench_str}.onnx\",\n",
    "        verbose=False,\n",
    "        input_names=['input_names'],\n",
    "        output_names=['output_names'],\n",
    "        export_params=True\n",
    "    )"
   ]
  }
 ],
 "metadata": {
  "kernelspec": {
   "display_name": "Python 3",
   "language": "python",
   "name": "python3"
  },
  "language_info": {
   "codemirror_mode": {
    "name": "ipython",
    "version": 3
   },
   "file_extension": ".py",
   "mimetype": "text/x-python",
   "name": "python",
   "nbconvert_exporter": "python",
   "pygments_lexer": "ipython3",
   "version": "3.8.10"
  }
 },
 "nbformat": 4,
 "nbformat_minor": 5
}
