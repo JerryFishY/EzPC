{
 "cells": [
  {
   "cell_type": "markdown",
   "metadata": {},
   "source": [
    "## Import"
   ]
  },
  {
   "cell_type": "code",
   "execution_count": 9,
   "metadata": {},
   "outputs": [],
   "source": [
    "import torch\n",
    "import torch.nn as nn\n",
    "import torch.nn.functional as F\n",
    "\n",
    "scale = 23"
   ]
  },
  {
   "cell_type": "markdown",
   "metadata": {},
   "source": [
    "## Define model"
   ]
  },
  {
   "cell_type": "code",
   "execution_count": 10,
   "metadata": {},
   "outputs": [],
   "source": [
    "class Net(nn.Module):\n",
    "\n",
    "    def __init__(self):\n",
    "        super(Net, self).__init__()\n",
    "        self.conv = nn.Conv2d(1, 1, 3, bias=False, padding=1)\n",
    "        \n",
    "    def forward(self, x):\n",
    "        return self.conv(x)"
   ]
  },
  {
   "cell_type": "markdown",
   "metadata": {},
   "source": [
    "## Create dummy input"
   ]
  },
  {
   "cell_type": "code",
   "execution_count": 11,
   "metadata": {},
   "outputs": [],
   "source": [
    "torch.manual_seed(0)\n",
    "\n",
    "model = Net()\n",
    "model.eval()\n",
    "dummy_input = torch.randn(1, 1, 10, 10)"
   ]
  },
  {
   "cell_type": "markdown",
   "metadata": {},
   "source": [
    "## Export"
   ]
  },
  {
   "cell_type": "code",
   "execution_count": 8,
   "metadata": {},
   "outputs": [],
   "source": [
    "torch.onnx.export(\n",
    "    model,\n",
    "    dummy_input,\n",
    "    \"conv3_dense_single.onnx\",\n",
    "    verbose=False,\n",
    "    input_names=['input_names'],\n",
    "    output_names=['output_names'],\n",
    "    export_params=True\n",
    ")"
   ]
  },
  {
   "cell_type": "markdown",
   "metadata": {},
   "source": [
    "## Generate input"
   ]
  },
  {
   "cell_type": "code",
   "execution_count": 13,
   "metadata": {},
   "outputs": [
    {
     "name": "stdout",
     "output_type": "stream",
     "text": [
      "3667690\n",
      "4121364\n",
      "-1712129\n",
      "-742655\n",
      "4394651\n",
      "-5585733\n",
      "7133482\n",
      "-11346882\n",
      "-11285238\n",
      "6588040\n",
      "8328524\n",
      "-1620536\n",
      "-2591765\n",
      "4215886\n",
      "-7209552\n",
      "6293045\n",
      "-1322987\n",
      "12110299\n",
      "2231784\n",
      "1396328\n",
      "7334846\n",
      "-1203545\n",
      "-936246\n",
      "-5147108\n",
      "10561335\n",
      "16818996\n",
      "450777\n",
      "5184635\n",
      "-3462836\n",
      "-7055363\n",
      "-19428368\n",
      "-858235\n",
      "-6228945\n",
      "4720449\n",
      "2177912\n",
      "-1459290\n",
      "-5693736\n",
      "7870701\n",
      "4100937\n",
      "-5646287\n",
      "709128\n",
      "-10067499\n",
      "-40145\n",
      "-4345926\n",
      "-2572821\n",
      "-13262338\n",
      "14316362\n",
      "-3743141\n",
      "-3777639\n",
      "-4807319\n",
      "-4658684\n",
      "4985543\n",
      "12934752\n",
      "4255829\n",
      "-4957945\n",
      "-4775199\n",
      "1581702\n",
      "-579423\n",
      "-4151734\n",
      "-12548644\n",
      "-1626023\n",
      "3737227\n",
      "11117211\n",
      "-13667777\n",
      "17464708\n",
      "14316935\n",
      "19967970\n",
      "-9442231\n",
      "-2659172\n",
      "-9164288\n",
      "-714661\n",
      "-783061\n",
      "-6381274\n",
      "-13414072\n",
      "155077\n",
      "-6295036\n",
      "1555314\n",
      "5210486\n",
      "5353455\n",
      "-2063605\n",
      "-4483213\n",
      "9803664\n",
      "3309329\n",
      "16286164\n",
      "-10864809\n",
      "-6292978\n",
      "-11005566\n",
      "-1835710\n",
      "-20426808\n",
      "-611653\n",
      "-285098\n",
      "8074188\n",
      "-1550564\n",
      "-3105020\n",
      "-10152577\n",
      "-5223573\n",
      "-3889983\n",
      "16121079\n",
      "-3376796\n",
      "1039369\n"
     ]
    }
   ],
   "source": [
    "with open(\"conv3_dense_single_input.inp\", 'w') as f :\n",
    "    for p in dummy_input.flatten() :\n",
    "        fixed = int(p*(2**scale))\n",
    "        print(fixed)\n",
    "        f.write(f\"{fixed}\\n\")\n",
    "        \n",
    "    f.close()"
   ]
  },
  {
   "cell_type": "code",
   "execution_count": null,
   "metadata": {},
   "outputs": [],
   "source": []
  }
 ],
 "metadata": {
  "kernelspec": {
   "display_name": "Python 3",
   "language": "python",
   "name": "python3"
  },
  "language_info": {
   "codemirror_mode": {
    "name": "ipython",
    "version": 3
   },
   "file_extension": ".py",
   "mimetype": "text/x-python",
   "name": "python",
   "nbconvert_exporter": "python",
   "pygments_lexer": "ipython3",
   "version": "3.8.10"
  }
 },
 "nbformat": 4,
 "nbformat_minor": 4
}
